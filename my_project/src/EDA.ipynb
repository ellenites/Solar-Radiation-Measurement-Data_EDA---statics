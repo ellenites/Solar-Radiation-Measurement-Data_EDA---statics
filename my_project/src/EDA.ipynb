{
 "cells": [
  {
   "cell_type": "code",
   "execution_count": null,
   "metadata": {},
   "outputs": [],
   "source": [
    "import pandas as pd\n",
    "import numpy as np\n",
    "import matplotlib.pyplot as plt\n",
    "import seaborn as sns\n",
    "#to ignore warnings\n",
    "import warnings\n",
    "warnings.filterwarnings('ignore')"
   ]
  },
  {
   "cell_type": "code",
   "execution_count": null,
   "metadata": {},
   "outputs": [],
   "source": [
    "data=pd.read_csv(\"C:\\Users\\ELU\\Desktop\\Solar Radiation Measurement Data_EDA & statics\\my_project\\data\\benin-malanville.csv\")"
   ]
  },
  {
   "cell_type": "code",
   "execution_count": null,
   "metadata": {},
   "outputs": [],
   "source": [
    "data.head()"
   ]
  },
  {
   "cell_type": "code",
   "execution_count": null,
   "metadata": {},
   "outputs": [],
   "source": [
    "\n",
    "data.info()"
   ]
  },
  {
   "cell_type": "code",
   "execution_count": null,
   "metadata": {},
   "outputs": [],
   "source": [
    "data.nunique()"
   ]
  },
  {
   "cell_type": "code",
   "execution_count": null,
   "metadata": {},
   "outputs": [],
   "source": [
    "\n",
    "(data.isnull().sum()/(len(data)))*100"
   ]
  },
  {
   "cell_type": "code",
   "execution_count": null,
   "metadata": {},
   "outputs": [],
   "source": [
    "#since the comment and clean colomn doesn't express much value to the analysis we can reduce them\n",
    "data = data.drop(['Comments'], axis = 1)\n",
    "data = data.drop(['Cleaning'], axis = 1)\n",
    "data.info()\n"
   ]
  },
  {
   "cell_type": "code",
   "execution_count": null,
   "metadata": {},
   "outputs": [],
   "source": [
    "# Replace negative values in GHI column with NaN\n",
    "data['GHI'] = data['GHI'].apply(lambda x: x if x >= 0 else float('NaN'))\n",
    "data['DNI'] = data['DNI'].apply(lambda x: x if x >= 0 else float('NaN'))\n",
    "data['DHI'] = data['DHI'].apply(lambda x: x if x >= 0 else float('NaN'))\n",
    "\n",
    "# Check if negative values in GHI are replaced with NaN\n",
    "print(\"Negative Values in GHI replaced with NaN:\")\n",
    "print(data[data['GHI'] < 0])\n"
   ]
  },
  {
   "cell_type": "code",
   "execution_count": null,
   "metadata": {},
   "outputs": [],
   "source": [
    "data.head()"
   ]
  },
  {
   "cell_type": "code",
   "execution_count": null,
   "metadata": {},
   "outputs": [],
   "source": [
    "# Check for missing values after replacing negative values with NaN\n",
    "missing_values_after_replacement = data.isnull().sum()\n",
    "print(\"\\nMissing Values after replacing negative values with NaN:\")\n",
    "print(missing_values_after_replacement)"
   ]
  },
  {
   "cell_type": "code",
   "execution_count": null,
   "metadata": {},
   "outputs": [],
   "source": [
    "# Convert DataFrame values to numeric types\n",
    "data = data.apply(pd.to_numeric, errors='coerce')\n",
    "\n",
    "    # Count negative numbers and replace them with 'a'\n",
    "negative_count = (data._get_numeric_data() < 0).sum().sum()\n",
    "\n",
    "\n",
    "data[data < 0] = 'a'\n"
   ]
  },
  {
   "cell_type": "code",
   "execution_count": null,
   "metadata": {},
   "outputs": [],
   "source": [
    "\n",
    "data.head()"
   ]
  },
  {
   "cell_type": "code",
   "execution_count": null,
   "metadata": {},
   "outputs": [],
   "source": [
    "from pydoc import replace\n",
    "\n",
    "# Handling missing values: you can choose different strategies based on your data and requirements, such as imputation or removal\n",
    "# For demonstration purposes, let's drop rows with missing values\n",
    "data.dropna(inplace=True)\n",
    "\n",
    "# Reset index after removing rows\n",
    "data.reset_index(drop=True, inplace=True)\n",
    "\n",
    "# Verify if missing values\n",
    "print(\"\\nAfter Data Cleaning:\")\n",
    "print(data.info())"
   ]
  },
  {
   "cell_type": "code",
   "execution_count": null,
   "metadata": {},
   "outputs": [],
   "source": [
    "\n",
    "data.head()"
   ]
  },
  {
   "cell_type": "code",
   "execution_count": null,
   "metadata": {},
   "outputs": [],
   "source": [
    "# Check if 'Timestamp' column exists\n",
    "if 'Timestamp' in data.columns:\n",
    "    # Convert 'Timestamp' column to datetime\n",
    "    data['Timestamp'] = pd.to_datetime(data['Timestamp'])\n",
    "    data.set_index('Timestamp', inplace=True)\n",
    "else:\n",
    "    print(\"Timestamp column does not exist in the dataset.\")\n",
    "\n",
    "# Summary Statistics\n",
    "summary_stats = data.describe()\n",
    "\n",
    "# Data Quality Check\n",
    "missing_values = data.isnull().sum()\n",
    "outliers = data[(np.abs(data - data.mean()) > 3 * data.std())].count()\n",
    "\n",
    "# Time Series Analysis\n",
    "if 'Timestamp' in data.columns:\n",
    "    plt.figure(figsize=(12, 6))\n",
    "    plt.plot(data['GHI'], label='GHI')\n",
    "    plt.plot(data['DNI'], label='DNI')\n",
    "    plt.plot(data['DHI'], label='DHI')\n",
    "    plt.plot(data['Tamb'], label='Tamb')\n",
    "    plt.legend()\n",
    "    plt.title('Solar Radiation and Temperature Over Time')\n",
    "    plt.xlabel('Timestamp')\n",
    "    plt.ylabel('Value')\n",
    "    plt.show()\n",
    "else:\n",
    "    print(\"Cannot perform time series analysis. Timestamp column does not exist in the dataset.\")\n",
    "\n",
    "# Correlation Analysis\n",
    "correlation_matrix = data.corr()\n",
    "\n",
    "# Wind Analysis\n",
    "# Plot wind speed over time\n",
    "if 'WS' in data.columns:\n",
    "    plt.figure(figsize=(12, 6))\n",
    "    plt.plot(data['WS'], label='Wind Speed')\n",
    "    plt.plot(data['WSgust'], label='Wind Gust Speed')\n",
    "    plt.plot(data['WSstdev'], label='Wind Speed Std Dev')\n",
    "    plt.legend()\n",
    "    plt.title('Wind Speed Over Time')\n",
    "    plt.xlabel('Timestamp')\n",
    "    plt.ylabel('Speed (m/s)')\n",
    "    plt.show()\n",
    "else:\n",
    "    print(\"Cannot perform wind analysis. Wind speed columns do not exist in the dataset.\")\n",
    "\n",
    "# Temperature Analysis\n",
    "# Compare module temperatures with ambient temperature\n",
    "if 'Tamb' in data.columns and 'TModA' in data.columns and 'TModB' in data.columns:\n",
    "    plt.figure(figsize=(10, 6))\n",
    "    plt.plot(data['Tamb'], label='Ambient Temperature')\n",
    "    plt.plot(data['TModA'], label='Module A Temperature')\n",
    "    plt.plot(data['TModB'], label='Module B Temperature')\n",
    "    plt.legend()\n",
    "    plt.title('Temperature Comparison')\n",
    "    plt.xlabel('Timestamp')\n",
    "    plt.ylabel('Temperature (°C)')\n",
    "    plt.show()\n",
    "else:\n",
    "    print(\"Cannot perform temperature analysis. Temperature columns do not exist in the dataset.\")\n",
    "\n",
    "# Histograms\n",
    "data.hist(figsize=(12, 10))\n",
    "plt.tight_layout()\n",
    "plt.show()\n",
    "\n",
    "# Box Plots\n",
    "plt.figure(figsize=(12, 6))\n",
    "sns.boxplot(data=data[['GHI', 'DNI', 'DHI', 'Tamb', 'TModA', 'TModB']])\n",
    "plt.title('Box Plot of Solar Radiation and Temperature')\n",
    "plt.ylabel('Value')\n",
    "plt.show()\n",
    "\n",
    "# Scatter Plots\n",
    "plt.figure(figsize=(12, 6))\n",
    "sns.scatterplot(x='GHI', y='Tamb', data=data)\n",
    "plt.title('GHI vs. Ambient Temperature')\n",
    "plt.xlabel('GHI (W/m²)')\n",
    "plt.ylabel('Temperature (°C)')\n",
    "plt.show()\n",
    "\n",
    "# Data Cleaning (if necessary)\n",
    "# Handle missing values or outliers based on analysis\n",
    "\n",
    "# Check for comments column\n",
    "if 'Comments' in data.columns:\n",
    "    comments_null_count = data['Comments'].isnull().sum()\n",
    "else:\n",
    "    print(\"Comments column does not exist in the dataset.\")\n"
   ]
  }
 ],
 "metadata": {
  "language_info": {
   "name": "python"
  },
  "orig_nbformat": 4
 },
 "nbformat": 4,
 "nbformat_minor": 2
}
